{
 "cells": [
  {
   "cell_type": "code",
   "execution_count": 31,
   "id": "89797a09-60e8-41e2-865d-72fde5b3b97b",
   "metadata": {},
   "outputs": [],
   "source": [
    "import numpy as np\n",
    "import pandas as pd"
   ]
  },
  {
   "cell_type": "code",
   "execution_count": 33,
   "id": "32f17469-e2c7-4f33-8f76-365daf641b6c",
   "metadata": {},
   "outputs": [],
   "source": [
    "completeness = np.load('k1_avg_completeness.npz')['arr_0']\n",
    "planets = pd.read_csv('kepler_planets.csv')\n",
    "stars = pd.read_csv('kepler_stars.csv')\n"
   ]
  },
  {
   "cell_type": "code",
   "execution_count": 35,
   "id": "807a4ad7-d808-4ce6-bb1d-9e7bbe9bf89d",
   "metadata": {},
   "outputs": [
    {
     "name": "stdout",
     "output_type": "stream",
     "text": [
      "n_pl = 2517, n_st = 121880\n",
      "74.35 +/- 1.48 %\n"
     ]
    }
   ],
   "source": [
    "# Occurrence function\n",
    "def IDEM(criteria, output=False):\n",
    "    eta, n_pl, n_st = 0,0,len(stars)\n",
    "    \n",
    "    this_planets = planets.query(\"%f < per < %f and %f < rad < %f\" %(criteria['x_range'][0], criteria['x_range'][1], criteria['y_range'][0], criteria['y_range'][1]))\n",
    "\n",
    "    if np.any(this_planets['avg_comp']==0):\n",
    "        drop = this_planets.query('avg_comp'+'==0')\n",
    "        print('Dropping {} this_planets with zero completeness, IDs: '.format(len(drop)), drop.pID.values)\n",
    "        this_planets = this_planets.drop(index=drop.index)\n",
    "    comp = this_planets['avg_comp']\n",
    "        \n",
    "    if criteria['use_rel']:\n",
    "        eta = np.sum(this_planets['reliability']/comp)             \n",
    "    else:\n",
    "        eta = np.sum(1/comp)\n",
    "    n_pl = len(this_planets)\n",
    "    eta *= 1/n_st\n",
    "    err = eta/np.sqrt(n_pl) if n_pl>0 else np.nan\n",
    "    if output:\n",
    "        return 100*eta, 100*err\n",
    "    else:\n",
    "        print('n_pl = {:.0f}, n_st = {:.0f}'.format(n_pl,n_st))\n",
    "        print('{:.2f} +/- {:.2f} %'.format(100*eta, 100*err))\n",
    "\n",
    "        \n",
    "# Define the period (x) and radius (y) boxes to calculate occurrence for\n",
    "criteria = {'x_range':[0.1,100], 'y_range':[1,10], 'use_rel':False}\n",
    "IDEM(criteria)"
   ]
  },
  {
   "cell_type": "code",
   "execution_count": null,
   "id": "90b5412d-1d4e-4855-8b36-8b9e73421e59",
   "metadata": {},
   "outputs": [],
   "source": []
  },
  {
   "cell_type": "code",
   "execution_count": null,
   "id": "744efc77-ae3d-4e70-9772-638d4aed00a1",
   "metadata": {},
   "outputs": [],
   "source": []
  },
  {
   "cell_type": "code",
   "execution_count": null,
   "id": "5ad363f2-be24-442b-b238-d1c29b0f17d1",
   "metadata": {},
   "outputs": [],
   "source": []
  }
 ],
 "metadata": {
  "kernelspec": {
   "display_name": "Python 3 (ipykernel)",
   "language": "python",
   "name": "python3"
  },
  "language_info": {
   "codemirror_mode": {
    "name": "ipython",
    "version": 3
   },
   "file_extension": ".py",
   "mimetype": "text/x-python",
   "name": "python",
   "nbconvert_exporter": "python",
   "pygments_lexer": "ipython3",
   "version": "3.12.4"
  }
 },
 "nbformat": 4,
 "nbformat_minor": 5
}
